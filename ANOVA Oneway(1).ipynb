{
 "cells": [
  {
   "cell_type": "code",
   "execution_count": 55,
   "id": "a1ade4c8",
   "metadata": {},
   "outputs": [],
   "source": [
    "import numpy as np\n",
    "import pandas as pd\n",
    "import seaborn as sns\n",
    "import matplotlib.pyplot as plt\n",
    "from scipy.stats import ttest_ind, f_oneway\n",
    "from scipy import stats\n"
   ]
  },
  {
   "cell_type": "code",
   "execution_count": 56,
   "id": "b1e2e76c",
   "metadata": {},
   "outputs": [
    {
     "name": "stdout",
     "output_type": "stream",
     "text": [
      "CSV file generated successfully.\n"
     ]
    }
   ],
   "source": [
    "\n",
    "# Define parameters\n",
    "num_patients_per_medication = 30\n",
    "num_medications = 4\n",
    "\n",
    "# Generate synthetic data for one-way ANOVA\n",
    "np.random.seed(42)  # for reproducibility\n",
    "age = np.random.randint(18, 80, size=num_patients_per_medication * num_medications)\n",
    "gender = np.random.choice(['Male', 'Female'], size=num_patients_per_medication * num_medications)\n",
    "medication = np.repeat(np.arange(num_medications), num_patients_per_medication)\n",
    "blood_pressure = np.random.normal(loc=120, scale=5, size=num_patients_per_medication * num_medications)\n",
    "\n",
    "# Generate synthetic names with corresponding gender\n",
    "def generate_names(num_names, genders):\n",
    "    male_first_names = ['John', 'Michael', 'William', 'David', 'Robert']\n",
    "    female_first_names = ['Emily', 'Olivia', 'Samantha', 'Emma', 'Jane']\n",
    "    last_names = ['Smith', 'Johnson', 'Williams', 'Jones', 'Brown']\n",
    "    names = []\n",
    "    for gender in genders:\n",
    "        if gender == 'Male':\n",
    "            first_name = np.random.choice(male_first_names)\n",
    "        else:\n",
    "            first_name = np.random.choice(female_first_names)\n",
    "        last_name = np.random.choice(last_names)\n",
    "        full_name = first_name + ' ' + last_name\n",
    "        names.append(full_name)\n",
    "    return names\n",
    "\n",
    "names = generate_names(num_patients_per_medication * num_medications, gender)\n",
    "\n",
    "# Create DataFrame for one-way ANOVA data\n",
    "one_way_data = pd.DataFrame({\n",
    "    'Name': names,\n",
    "    'Age': age,\n",
    "    'Gender': gender,\n",
    "    'Medication': medication,\n",
    "    'BloodPressure': blood_pressure\n",
    "})\n",
    "\n",
    "\n",
    "one_way_data.to_csv('Blood Pressure.csv', index=False)\n",
    "\n",
    "print(\"CSV file generated successfully.\")\n"
   ]
  },
  {
   "cell_type": "code",
   "execution_count": 57,
   "id": "58125293",
   "metadata": {},
   "outputs": [
    {
     "data": {
      "text/html": [
       "<div>\n",
       "<style scoped>\n",
       "    .dataframe tbody tr th:only-of-type {\n",
       "        vertical-align: middle;\n",
       "    }\n",
       "\n",
       "    .dataframe tbody tr th {\n",
       "        vertical-align: top;\n",
       "    }\n",
       "\n",
       "    .dataframe thead th {\n",
       "        text-align: right;\n",
       "    }\n",
       "</style>\n",
       "<table border=\"1\" class=\"dataframe\">\n",
       "  <thead>\n",
       "    <tr style=\"text-align: right;\">\n",
       "      <th></th>\n",
       "      <th>Name</th>\n",
       "      <th>Age</th>\n",
       "      <th>Gender</th>\n",
       "      <th>Medication</th>\n",
       "      <th>BloodPressure</th>\n",
       "    </tr>\n",
       "  </thead>\n",
       "  <tbody>\n",
       "    <tr>\n",
       "      <th>0</th>\n",
       "      <td>Olivia Smith</td>\n",
       "      <td>56</td>\n",
       "      <td>Female</td>\n",
       "      <td>0</td>\n",
       "      <td>118.709076</td>\n",
       "    </tr>\n",
       "    <tr>\n",
       "      <th>1</th>\n",
       "      <td>Emily Smith</td>\n",
       "      <td>69</td>\n",
       "      <td>Female</td>\n",
       "      <td>0</td>\n",
       "      <td>122.304778</td>\n",
       "    </tr>\n",
       "    <tr>\n",
       "      <th>2</th>\n",
       "      <td>William Brown</td>\n",
       "      <td>46</td>\n",
       "      <td>Male</td>\n",
       "      <td>0</td>\n",
       "      <td>113.253050</td>\n",
       "    </tr>\n",
       "    <tr>\n",
       "      <th>3</th>\n",
       "      <td>Olivia Johnson</td>\n",
       "      <td>32</td>\n",
       "      <td>Female</td>\n",
       "      <td>0</td>\n",
       "      <td>114.904636</td>\n",
       "    </tr>\n",
       "    <tr>\n",
       "      <th>4</th>\n",
       "      <td>Samantha Johnson</td>\n",
       "      <td>60</td>\n",
       "      <td>Female</td>\n",
       "      <td>0</td>\n",
       "      <td>120.635061</td>\n",
       "    </tr>\n",
       "  </tbody>\n",
       "</table>\n",
       "</div>"
      ],
      "text/plain": [
       "               Name  Age  Gender  Medication  BloodPressure\n",
       "0      Olivia Smith   56  Female           0     118.709076\n",
       "1       Emily Smith   69  Female           0     122.304778\n",
       "2     William Brown   46    Male           0     113.253050\n",
       "3    Olivia Johnson   32  Female           0     114.904636\n",
       "4  Samantha Johnson   60  Female           0     120.635061"
      ]
     },
     "execution_count": 57,
     "metadata": {},
     "output_type": "execute_result"
    }
   ],
   "source": [
    "df1=pd.read_csv(\"Blood Pressure.csv\")\n",
    "df1.head()"
   ]
  },
  {
   "cell_type": "code",
   "execution_count": 58,
   "id": "76da49ef",
   "metadata": {},
   "outputs": [
    {
     "data": {
      "text/html": [
       "<div>\n",
       "<style scoped>\n",
       "    .dataframe tbody tr th:only-of-type {\n",
       "        vertical-align: middle;\n",
       "    }\n",
       "\n",
       "    .dataframe tbody tr th {\n",
       "        vertical-align: top;\n",
       "    }\n",
       "\n",
       "    .dataframe thead th {\n",
       "        text-align: right;\n",
       "    }\n",
       "</style>\n",
       "<table border=\"1\" class=\"dataframe\">\n",
       "  <thead>\n",
       "    <tr style=\"text-align: right;\">\n",
       "      <th></th>\n",
       "      <th>Name</th>\n",
       "      <th>Age</th>\n",
       "      <th>Gender</th>\n",
       "      <th>Medication</th>\n",
       "      <th>BloodPressure</th>\n",
       "    </tr>\n",
       "  </thead>\n",
       "  <tbody>\n",
       "    <tr>\n",
       "      <th>count</th>\n",
       "      <td>120</td>\n",
       "      <td>120.000000</td>\n",
       "      <td>120</td>\n",
       "      <td>120.000000</td>\n",
       "      <td>120.000000</td>\n",
       "    </tr>\n",
       "    <tr>\n",
       "      <th>unique</th>\n",
       "      <td>47</td>\n",
       "      <td>NaN</td>\n",
       "      <td>2</td>\n",
       "      <td>NaN</td>\n",
       "      <td>NaN</td>\n",
       "    </tr>\n",
       "    <tr>\n",
       "      <th>top</th>\n",
       "      <td>John Jones</td>\n",
       "      <td>NaN</td>\n",
       "      <td>Male</td>\n",
       "      <td>NaN</td>\n",
       "      <td>NaN</td>\n",
       "    </tr>\n",
       "    <tr>\n",
       "      <th>freq</th>\n",
       "      <td>6</td>\n",
       "      <td>NaN</td>\n",
       "      <td>69</td>\n",
       "      <td>NaN</td>\n",
       "      <td>NaN</td>\n",
       "    </tr>\n",
       "    <tr>\n",
       "      <th>mean</th>\n",
       "      <td>NaN</td>\n",
       "      <td>50.391667</td>\n",
       "      <td>NaN</td>\n",
       "      <td>1.500000</td>\n",
       "      <td>119.868316</td>\n",
       "    </tr>\n",
       "    <tr>\n",
       "      <th>std</th>\n",
       "      <td>NaN</td>\n",
       "      <td>19.089922</td>\n",
       "      <td>NaN</td>\n",
       "      <td>1.122722</td>\n",
       "      <td>5.250707</td>\n",
       "    </tr>\n",
       "    <tr>\n",
       "      <th>min</th>\n",
       "      <td>NaN</td>\n",
       "      <td>19.000000</td>\n",
       "      <td>NaN</td>\n",
       "      <td>0.000000</td>\n",
       "      <td>105.602716</td>\n",
       "    </tr>\n",
       "    <tr>\n",
       "      <th>25%</th>\n",
       "      <td>NaN</td>\n",
       "      <td>33.750000</td>\n",
       "      <td>NaN</td>\n",
       "      <td>0.750000</td>\n",
       "      <td>116.152301</td>\n",
       "    </tr>\n",
       "    <tr>\n",
       "      <th>50%</th>\n",
       "      <td>NaN</td>\n",
       "      <td>51.500000</td>\n",
       "      <td>NaN</td>\n",
       "      <td>1.500000</td>\n",
       "      <td>119.959249</td>\n",
       "    </tr>\n",
       "    <tr>\n",
       "      <th>75%</th>\n",
       "      <td>NaN</td>\n",
       "      <td>68.000000</td>\n",
       "      <td>NaN</td>\n",
       "      <td>2.250000</td>\n",
       "      <td>123.437108</td>\n",
       "    </tr>\n",
       "    <tr>\n",
       "      <th>max</th>\n",
       "      <td>NaN</td>\n",
       "      <td>79.000000</td>\n",
       "      <td>NaN</td>\n",
       "      <td>3.000000</td>\n",
       "      <td>131.366726</td>\n",
       "    </tr>\n",
       "  </tbody>\n",
       "</table>\n",
       "</div>"
      ],
      "text/plain": [
       "              Name         Age Gender  Medication  BloodPressure\n",
       "count          120  120.000000    120  120.000000     120.000000\n",
       "unique          47         NaN      2         NaN            NaN\n",
       "top     John Jones         NaN   Male         NaN            NaN\n",
       "freq             6         NaN     69         NaN            NaN\n",
       "mean           NaN   50.391667    NaN    1.500000     119.868316\n",
       "std            NaN   19.089922    NaN    1.122722       5.250707\n",
       "min            NaN   19.000000    NaN    0.000000     105.602716\n",
       "25%            NaN   33.750000    NaN    0.750000     116.152301\n",
       "50%            NaN   51.500000    NaN    1.500000     119.959249\n",
       "75%            NaN   68.000000    NaN    2.250000     123.437108\n",
       "max            NaN   79.000000    NaN    3.000000     131.366726"
      ]
     },
     "execution_count": 58,
     "metadata": {},
     "output_type": "execute_result"
    }
   ],
   "source": [
    "df1.describe(include='all')"
   ]
  },
  {
   "cell_type": "code",
   "execution_count": 59,
   "id": "6b602fcb",
   "metadata": {},
   "outputs": [
    {
     "data": {
      "text/plain": [
       "Name              47\n",
       "Age               55\n",
       "Gender             2\n",
       "Medication         4\n",
       "BloodPressure    120\n",
       "dtype: int64"
      ]
     },
     "execution_count": 59,
     "metadata": {},
     "output_type": "execute_result"
    }
   ],
   "source": [
    "df1.nunique()"
   ]
  },
  {
   "cell_type": "markdown",
   "id": "2a6adde1",
   "metadata": {},
   "source": [
    "\n",
    "# 2. Univariate Analysis\n",
    "# Histogram of Age"
   ]
  },
  {
   "cell_type": "code",
   "execution_count": 60,
   "id": "e64e568e",
   "metadata": {},
   "outputs": [
    {
     "data": {
      "image/png": "[encoded data removed]",
      "text/plain": [
       "<Figure size 800x600 with 1 Axes>"
      ]
     },
     "metadata": {},
     "output_type": "display_data"
    }
   ],
   "source": [
    "\n",
    "# 2. Univariate Analysis\n",
    "# Histogram of Age\n",
    "plt.figure(figsize=(8, 6))\n",
    "sns.histplot(df1['Age'], bins=5, kde=True)\n",
    "plt.title('Distribution of Age')\n",
    "plt.xlabel('Age')\n",
    "plt.ylabel('Frequency')\n",
    "plt.show()\n"
   ]
  },
  {
   "cell_type": "code",
   "execution_count": 61,
   "id": "0aacc53b",
   "metadata": {},
   "outputs": [
    {
     "name": "stdout",
     "output_type": "stream",
     "text": [
      "\n",
      "Skewness: -0.17629202968540122\n",
      "Kurtosis: -0.16435524578493865\n"
     ]
    }
   ],
   "source": [
    "skewness = stats.skew(df1['BloodPressure'])\n",
    "kurtosis = stats.kurtosis(df1['BloodPressure'])\n",
    "print(\"\\nSkewness:\", skewness)\n",
    "print(\"Kurtosis:\", kurtosis)"
   ]
  },
  {
   "cell_type": "code",
   "execution_count": 62,
   "id": "add9761d",
   "metadata": {},
   "outputs": [
    {
     "name": "stdout",
     "output_type": "stream",
     "text": [
      "\n",
      "Shapiro-Wilk Test for Normality:\n",
      "Test Statistic: 0.9933999180793762\n",
      "p-value: 0.8454365730285645\n"
     ]
    }
   ],
   "source": [
    "shapiro_test = stats.shapiro(df1['BloodPressure'])\n",
    "print(\"\\nShapiro-Wilk Test for Normality:\")\n",
    "print(\"Test Statistic:\", shapiro_test.statistic)\n",
    "print(\"p-value:\", shapiro_test.pvalue)"
   ]
  },
  {
   "cell_type": "code",
   "execution_count": 63,
   "id": "3269ccc8",
   "metadata": {},
   "outputs": [
    {
     "data": {
      "image/png": "[encoded data removed]",
      "text/plain": [
       "<Figure size 800x600 with 1 Axes>"
      ]
     },
     "metadata": {},
     "output_type": "display_data"
    }
   ],
   "source": [
    "# QQ plot for normality\n",
    "plt.figure(figsize=(8, 6))\n",
    "stats.probplot(df1['BloodPressure'], dist=\"norm\", plot=plt)\n",
    "plt.title('Q-Q Plot')\n",
    "plt.xlabel('Theoretical Quantiles')\n",
    "plt.ylabel('Sample Quantiles')\n",
    "plt.show()"
   ]
  },
  {
   "cell_type": "code",
   "execution_count": 64,
   "id": "7271dbc8",
   "metadata": {},
   "outputs": [],
   "source": [
    "# From the test and Graph analysis the distribution is normally distributed"
   ]
  },
  {
   "cell_type": "code",
   "execution_count": null,
   "id": "674a52ae",
   "metadata": {},
   "outputs": [],
   "source": []
  },
  {
   "cell_type": "code",
   "execution_count": 65,
   "id": "c8b738c7",
   "metadata": {},
   "outputs": [],
   "source": [
    "#Bivariate analaysis"
   ]
  },
  {
   "cell_type": "code",
   "execution_count": 66,
   "id": "5cba59a2",
   "metadata": {},
   "outputs": [
    {
     "data": {
      "image/png": "[encoded data removed]",
      "text/plain": [
       "<Figure size 800x600 with 1 Axes>"
      ]
     },
     "metadata": {},
     "output_type": "display_data"
    }
   ],
   "source": [
    "plt.figure(figsize=(8, 6))\n",
    "sns.boxplot(x='Gender', y='BloodPressure', data=df1)\n",
    "plt.title('Blood Pressure vs. Gender')\n",
    "plt.xlabel('Gender')\n",
    "plt.ylabel('Blood Pressure')\n",
    "plt.show()"
   ]
  },
  {
   "cell_type": "code",
   "execution_count": 67,
   "id": "06a8d309",
   "metadata": {},
   "outputs": [
    {
     "data": {
      "image/png": "[encoded data removed]",
      "text/plain": [
       "<Figure size 800x600 with 1 Axes>"
      ]
     },
     "metadata": {},
     "output_type": "display_data"
    }
   ],
   "source": [
    "# Box plot for Age\n",
    "plt.figure(figsize=(8, 6))\n",
    "sns.boxplot(x='Age', data=df1, color='skyblue')\n",
    "plt.title('Box Plot of Age')\n",
    "plt.xlabel('Age')\n",
    "plt.show()\n"
   ]
  },
  {
   "cell_type": "code",
   "execution_count": 68,
   "id": "2a5da2b5",
   "metadata": {},
   "outputs": [],
   "source": [
    "#Hypothesis Testing using ANOVA\n",
    "#Null Hypothesis (H0): The mean blood pressure is the same across all medication groups.\n",
    "#Alternative Hypothesis (H1): At least one medication group has a different mean blood pressure from the others"
   ]
  },
  {
   "cell_type": "code",
   "execution_count": 69,
   "id": "4249ff7e",
   "metadata": {
    "scrolled": true
   },
   "outputs": [
    {
     "name": "stdout",
     "output_type": "stream",
     "text": [
      "\n",
      "One-Way ANOVA Results:\n",
      "                 sum_sq     df         F    PR(>F)\n",
      "Medication     6.760910    1.0  0.243669  0.622486\n",
      "Residual    3274.060099  118.0       NaN       NaN\n"
     ]
    }
   ],
   "source": [
    "# One-way ANOVA\n",
    "import statsmodels.api as sm\n",
    "from statsmodels.formula.api import ols\n",
    "\n",
    "# Fit ANOVA model\n",
    "model = ols('BloodPressure ~ Medication', data=df1).fit()\n",
    "\n",
    "# Perform ANOVA\n",
    "anova_table = sm.stats.anova_lm(model, typ=2)\n",
    "print(\"\\nOne-Way ANOVA Results:\")\n",
    "print(anova_table)"
   ]
  },
  {
   "cell_type": "code",
   "execution_count": 70,
   "id": "ec530484",
   "metadata": {},
   "outputs": [
    {
     "name": "stdout",
     "output_type": "stream",
     "text": [
      "Fail to reject the null hypothesis (H0).\n",
      "There is no significant difference in the mean blood pressure levels among different medication groups.\n"
     ]
    }
   ],
   "source": [
    "# Significance level\n",
    "alpha = 0.05\n",
    "\n",
    "# Check if p-value is less than alpha\n",
    "if anova_table['PR(>F)'][0] < alpha:\n",
    "    print(\"Reject the null hypothesis (H0).\")\n",
    "    print(\"There is a significant difference in the mean blood pressure levels among different medication groups.\")\n",
    "else:\n",
    "    print(\"Fail to reject the null hypothesis (H0).\")\n",
    "    print(\"There is no significant difference in the mean blood pressure levels among different medication groups.\")\n"
   ]
  },
  {
   "cell_type": "code",
   "execution_count": null,
   "id": "82a4c7a5",
   "metadata": {},
   "outputs": [],
   "source": []
  }
 ],
 "metadata": {
  "kernelspec": {
   "display_name": "Python 3 (ipykernel)",
   "language": "python",
   "name": "python3"
  },
  "language_info": {
   "codemirror_mode": {
    "name": "ipython",
    "version": 3
   },
   "file_extension": ".py",
   "mimetype": "text/x-python",
   "name": "python",
   "nbconvert_exporter": "python",
   "pygments_lexer": "ipython3",
   "version": "3.11.5"
  }
 },
 "nbformat": 4,
 "nbformat_minor": 5
}
